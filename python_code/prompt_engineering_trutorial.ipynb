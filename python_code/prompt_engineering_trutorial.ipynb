version https://git-lfs.github.com/spec/v1
oid sha256:5cd499bee73fb9d9b31dacd7b2a611a8f0f0b7c83bce48942d043becca0daa6d
size 80467
